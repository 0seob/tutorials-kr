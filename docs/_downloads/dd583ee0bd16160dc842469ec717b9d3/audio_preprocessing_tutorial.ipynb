{
  "cells": [
    {
      "cell_type": "code",
      "execution_count": null,
      "metadata": {
        "collapsed": false
      },
      "outputs": [],
      "source": [
        "%matplotlib inline"
      ]
    },
    {
      "cell_type": "markdown",
      "metadata": {},
      "source": [
        "\ntorchaudio \ud29c\ud1a0\ub9ac\uc5bc\n===================\n\n\nPyTorch\ub294 GPU\ub97c \uc9c0\uc6d0\ud558\ub294 \uc5f0\uad6c \ud504\ub85c\ud1a0\ud0c0\uc774\ud551\uc5d0\uc11c \n\uc0c1\ud488 \ubc30\ud3ec\uae4c\uc9c0 \ub04a\uae40\uc5c6\uc774 \uc9c0\uc6d0\ud558\ub294 \uc624\ud508 \uc18c\uc2a4 \ub525 \ub7ec\ub2dd \ud50c\ub7ab\ud3fc\uc785\ub2c8\ub2e4.\n\n\uba38\uc2e0 \ub7ec\ub2dd \ubb38\uc81c \ud574\uacb0\uc5d0\ub294 \ub9ce\uc740 \ub178\ub825\uc744 \ub370\uc774\ud130 \uc900\ube44\uc5d0 \uc501\ub2c8\ub2e4.\ntorchaudio\ub294 PyTorch\uc758 GPU \uc9c0\uc6d0\uc744 \ud65c\uc6a9\ud558\uace0, \ub370\uc774\ud130 \ub85c\ub4dc\ub97c \ub354 \uc27d\uace0 \uc77d\uae30 \uc27d\uac8c \ud574\uc8fc\ub294 \ub9ce\uc740 \ub3c4\uad6c\ub97c \uc81c\uacf5\ud569\ub2c8\ub2e4.\n\uc774 \ud29c\ud1a0\ub9ac\uc5bc\uc5d0\uc11c\ub294 \uac04\ub2e8\ud55c \ub370\uc774\ud130 \uc138\ud2b8\uc5d0\uc11c \ub370\uc774\ud130\ub97c \ub85c\ub4dc\ud558\uace0 \uc804\ucc98\ub9ac\ud558\ub294 \ubc29\ubc95\uc744 \uc0b4\ud3b4 \ubd05\ub2c8\ub2e4.\n\n\uc774 \ud29c\ud1a0\ub9ac\uc5bc\uc5d0\uc11c \ub354 \uc26c\uc6b4 \uc2dc\uac01\ud654\ub97c \uc704\ud55c ``matplotlib`` \ud328\ud0a4\uc9c0\uac00 \uc124\uce58\ub418\uc5b4 \uc788\ub294\uc9c0 \ud655\uc778\ud558\uc2ed\uc2dc\uc624.\n"
      ]
    },
    {
      "cell_type": "code",
      "execution_count": null,
      "metadata": {
        "collapsed": false
      },
      "outputs": [],
      "source": [
        "import torch\nimport torchaudio\nimport matplotlib.pyplot as plt"
      ]
    },
    {
      "cell_type": "markdown",
      "metadata": {},
      "source": [
        "\ub370\uc774\ud130 \uc138\ud2b8 \uc5f4\uae30\n---------------------\n\n\n"
      ]
    },
    {
      "cell_type": "markdown",
      "metadata": {},
      "source": [
        "torchaudio\ub294 wav \ubc0f mp3 \ud615\uc2dd\uc758 \uc0ac\uc6b4\ub4dc \ud30c\uc77c \ub85c\ub4dc\ub97c \uc9c0\uc6d0\ud569\ub2c8\ub2e4. \n\uc6b0\ub9ac\ub294 \uacb0\uacfc \uc6d0\uc2dc \uc624\ub514\uc624 \uc2e0\ud638(raw audio signal)\ub97c \ud30c\ud615(waveform)\uc774\ub77c\uace0 \ubd80\ub985\ub2c8\ub2e4.\n\n\n"
      ]
    },
    {
      "cell_type": "code",
      "execution_count": null,
      "metadata": {
        "collapsed": false
      },
      "outputs": [],
      "source": [
        "filename = \"../_static/img/steam-train-whistle-daniel_simon-converted-from-mp3.wav\"\nwaveform, sample_rate = torchaudio.load(filename)\n\nprint(\"Shape of waveform: {}\".format(waveform.size()))\nprint(\"Sample rate of waveform: {}\".format(sample_rate))\n\nplt.figure()\nplt.plot(waveform.t().numpy())"
      ]
    },
    {
      "cell_type": "markdown",
      "metadata": {},
      "source": [
        "\ubcc0\ud658\n---------------\n\ntorchaudio \uc810\uc810 \ub354 \ub9ce\uc740  \n`\ubcc0\ud658 <https://pytorch.org/audio/transforms.html>`_ \uc744 \uc9c0\uc6d0 \ud569\ub2c8\ub2e4..\n\n-  **Resample**: \ub2e4\ub978 \uc0d8\ud50c\ub9c1 \ub808\uc774\ud2b8\ub85c \ud30c\ud615\uc744 \ub9ac\uc0d8\ud50c.\n-  **Spectrogram**: \ud30c\ud615\uc5d0\uc11c \uc2a4\ud399\ud2b8\ub85c\uadf8\ub7a8 \uc0dd\uc131.\n-  **MelScale**: \ubcc0\ud658 \ud589\ub82c\uc744 \uc774\uc6a9\ud574 \uc77c\ubc18 STFT\ub97c Mel-frequency STFT\ub85c \ubcc0\ud658.\n-  **AmplitudeToDB**: \uc2a4\ud399\ud2b8\ub85c\uadf8\ub7a8\uc744 \ud30c\uc6cc/\ud06c\uae30 \ub2e8\uc704\uc5d0\uc11c \ub370\uc2dc\ubca8 \ub2e8\uc704\ub85c \ubcc0\ud658.\n-  **MFCC**: \ud30c\ud615\uc5d0\uc11c Mel-frequency cepstrum coefficients \uc0dd\uc131.\n-  **MelSpectrogram**: Pytorch\uc758 STFT \ud568\uc218\ub97c \uc774\uc6a9\ud574 \ud30c\ud615\uc5d0\uc11c MEL Spectrograms \uc0dd\uc131.\n-  **MuLawEncoding**: mu-law \uc555\uc2e0 \uae30\ubc18 \ud30c\ud615 \uc778\ucf54\ub529.\n-  **MuLawDecoding**: mu-law \uc778\ucf54\ub529\ub41c \ud30c\ud615 \ub514\ucf54\ub529.\n\n\ubaa8\ub4e0 \ubcc0\ud658\uc740 nn.Modules \ub610\ub294 jit.ScriptModules \uc774\ubbc0\ub85c,\n\uc5b8\uc81c\ub4e0\uc9c0 \uc2e0\uacbd\ub9dd\uc758 \uc77c\ubd80\ub85c \uc0ac\uc6a9\ud560 \uc218 \uc788\uc2b5\ub2c8\ub2e4.\n\n\n"
      ]
    },
    {
      "cell_type": "markdown",
      "metadata": {},
      "source": [
        "\ucc98\uc74c\uc73c\ub85c \ub85c\uadf8 \uc2a4\ucf00\uc77c \uc2a4\ud399\ud2b8\ub85c\uadf8\ub7a8\uc744 \ubcfc \uc218 \uc788\uc2b5\ub2c8\ub2e4.\n\n\n"
      ]
    },
    {
      "cell_type": "code",
      "execution_count": null,
      "metadata": {
        "collapsed": false
      },
      "outputs": [],
      "source": [
        "specgram = torchaudio.transforms.Spectrogram()(waveform)\n\nprint(\"Shape of spectrogram: {}\".format(specgram.size()))\n\nplt.figure()\nplt.imshow(specgram.log2()[0,:,:].numpy(), cmap='gray')"
      ]
    },
    {
      "cell_type": "markdown",
      "metadata": {},
      "source": [
        "\ub610\ub294 \ub85c\uadf8 \uc2a4\ucf00\uc77c\uc758  Mel Spectrogram \uc744 \ubcfc \uc218 \uc788\uc2b5\ub2c8\ub2e4..\n\n\n"
      ]
    },
    {
      "cell_type": "code",
      "execution_count": null,
      "metadata": {
        "collapsed": false
      },
      "outputs": [],
      "source": [
        "specgram = torchaudio.transforms.MelSpectrogram()(waveform)\n\nprint(\"Shape of spectrogram: {}\".format(specgram.size()))\n\nplt.figure()\np = plt.imshow(specgram.log2()[0,:,:].detach().numpy(), cmap='gray')"
      ]
    },
    {
      "cell_type": "markdown",
      "metadata": {},
      "source": [
        "\ud55c\ubc88\uc758 \ud558\ub098\uc758 \ucc44\ub110 \uc529 \ud30c\ud615\uc744 \ub9ac\uc0d8\ud50c \ud560 \uc218 \uc788\uc2b5\ub2c8\ub2e4.\n\n\n"
      ]
    },
    {
      "cell_type": "code",
      "execution_count": null,
      "metadata": {
        "collapsed": false
      },
      "outputs": [],
      "source": [
        "new_sample_rate = sample_rate/10\n\n# \ub9ac\uc0d8\ud50c\uc774 \ub2e8\uc77c \ucc44\ub110\uc5d0 \uc801\uc6a9\ub418\uae30 \ub54c\ubb38\uc5d0 \uc6b0\ub9ac\ub294 \uc5ec\uae30\uc11c \uccab\ubc88\uc9f8 \ucc44\ub110\uc744 \ub9ac\uc0d8\ud50c \ud569\ub2c8\ub2e4\nchannel = 0\ntransformed = torchaudio.transforms.Resample(sample_rate, new_sample_rate)(waveform[channel,:].view(1,-1))\n\nprint(\"Shape of transformed waveform: {}\".format(transformed.size()))\n\nplt.figure()\nplt.plot(transformed[0,:].numpy())"
      ]
    },
    {
      "cell_type": "markdown",
      "metadata": {},
      "source": [
        "\ubcc0\ud615\uc758 \ub2e4\ub978 \uc608\uc2dc\ub85c  Mu-Law \uc778\ucf54\ub529\uc73c\ub85c \uc2e0\ud638\ub97c \uc778\ucf54\ub529 \ud560 \uc218 \uc788\uc2b5\ub2c8\ub2e4.\n\uadf8\ub7ec\ub098 \uadf8\ub807\uac8c \ud558\uae30 \uc704\ud574\uc11c, \uc2e0\ud638\uac00 -1\uacfc 1 \uc0ac\uc774\uac00 \ub418\ub3c4\ub85d \ud558\ub294 \uac83\uc774 \ud544\uc694\ud569\ub2c8\ub2e4.\n\uadf8 Tensor \ub294 \uc77c\ubc18\uc801\uc778 Pytorch Tensor\uc774\ubbc0\ub85c \ud45c\uc900 \ub3d9\uc791\uc744 \uc801\uc6a9\ud560 \uc218 \uc788\uc2b5\ub2c8\ub2e4. \n\n\n"
      ]
    },
    {
      "cell_type": "code",
      "execution_count": null,
      "metadata": {
        "collapsed": false
      },
      "outputs": [],
      "source": [
        "# Tensor\uac00 [-1,1] \uc0ac\uc774\uc778\uc9c0 \ud655\uc778\ud574 \ubd05\uc2dc\ub2e4.\nprint(\"Min of waveform: {}\\nMax of waveform: {}\\nMean of waveform: {}\".format(waveform.min(), waveform.max(), waveform.mean()))"
      ]
    },
    {
      "cell_type": "markdown",
      "metadata": {},
      "source": [
        "\ud30c\ud615\uc774 \uc774\ubbf8 -1\uacfc 1 \uc0ac\uc774\uc5d0 \uc788\uae30 \ub54c\ubb38\uc5d0 \uc815\uaddc\ud654\ub97c \ud560 \ud544\uc694\uac00 \uc5c6\uc2b5\ub2c8\ub2e4.\n\n\n"
      ]
    },
    {
      "cell_type": "code",
      "execution_count": null,
      "metadata": {
        "collapsed": false
      },
      "outputs": [],
      "source": [
        "def normalize(tensor):\n    # \ud3c9\uade0\uc744 \ube7c\uace0,  [-1,1] \uac04\uaca9\uc73c\ub85c \ud06c\uae30\ub97c \ub9de\ucda5\ub2c8\ub2e4.\n    tensor_minusmean = tensor - tensor.mean()\n    return tensor_minusmean/tensor_minusmean.abs().max()\n\n# \uc804\uccb4 \uac04\uaca9 [-1,1]\ub85c \uc815\uaddc\ud654 \ud569\ub2c8\ub2e4.\n# waveform = normalize(waveform)"
      ]
    },
    {
      "cell_type": "markdown",
      "metadata": {},
      "source": [
        "\ud30c\ud615\uc744 \uc778\ucf54\ud305\ud574 \ubd05\uc2dc\ub2e4.\n\n\n"
      ]
    },
    {
      "cell_type": "code",
      "execution_count": null,
      "metadata": {
        "collapsed": false
      },
      "outputs": [],
      "source": [
        "transformed = torchaudio.transforms.MuLawEncoding()(waveform)\n\nprint(\"Shape of transformed waveform: {}\".format(transformed.size()))\n\nplt.figure()\nplt.plot(transformed[0,:].numpy())"
      ]
    },
    {
      "cell_type": "markdown",
      "metadata": {},
      "source": [
        "\uc774\uc81c \ub514\ucf54\ub529\uc744 \ud569\ub2c8\ub2e4.\n\n\n"
      ]
    },
    {
      "cell_type": "code",
      "execution_count": null,
      "metadata": {
        "collapsed": false
      },
      "outputs": [],
      "source": [
        "reconstructed = torchaudio.transforms.MuLawDecoding()(transformed)\n\nprint(\"Shape of recovered waveform: {}\".format(reconstructed.size()))\n\nplt.figure()\nplt.plot(reconstructed[0,:].numpy())"
      ]
    },
    {
      "cell_type": "markdown",
      "metadata": {},
      "source": [
        "\ub9c8\uce68\ub0b4 \uc6d0\ub798 \ud30c\ud615\uacfc \uc7ac\uad6c\ucd95\ub41c \ubc84\uc804\uc744 \ube44\uad50\ud560 \uc218 \uc788\uc2b5\ub2c8\ub2e4.\n\n\n"
      ]
    },
    {
      "cell_type": "code",
      "execution_count": null,
      "metadata": {
        "collapsed": false
      },
      "outputs": [],
      "source": [
        "# \uc911\uc559\uac12 \uc0c1\ub300 \ucc28\uc774(median relative difference) \uacc4\uc0b0 \nerr = ((waveform-reconstructed).abs() / waveform.abs()).median()\n\nprint(\"Median relative difference between original and MuLaw reconstucted signals: {:.2%}\".format(err))"
      ]
    },
    {
      "cell_type": "markdown",
      "metadata": {},
      "source": [
        "Kaldi\uc5d0\uc11c torchaudio\ub85c \ubcc0\uacbd\n----------------------------------\n\n\uc74c\uc131\uc778\uc2dd \ud234\ud0b7 `Kaldi <http://github.com/kaldi-asr/kaldi>`_ \uc5d0 \uc775\uc219\ud55c \uc0ac\uc6a9\uc790\ub97c \uc704\ud574,\ntorchaudio\ub294  ``torchaudio.kaldi_io`` \ub85c \ud638\ud658\uc131\uc744 \uc81c\uacf5\ud569\ub2c8\ub2e4.\n\uadf8\uac83\uc740 kaldi scp \ub610\ub294 ark \ud30c\uc77c \ub610\ub294 streams \ub97c \uc544\ub798 \ud568\uc218\ub85c \uc77d\uc744 \uc218 \uc788\uc2b5\ub2c8\ub2e4:\n\n-  read_vec_int_ark\n-  read_vec_flt_scp\n-  read_vec_flt_arkfile/stream\n-  read_mat_scp\n-  read_mat_ark\n\ntorchaudio \ub294 ``spectrogram`` \uacfc ``fbank`` \ub97c \uc704\ud574 GPU\uc758 \uc7a5\uc810\uc744 \uac00\uc9c4 Kaldi \ud638\ud658 \ubcc0\ud615\uc744 \uc81c\uacf5\ud569\ub2c8\ub2e4. \n\ub354 \ub9ce\uc740 \uc815\ubcf4\ub97c \uc704\ud574\uc11c `\uc5ec\uae30 <compliance.kaldi.html>`__ \ub97c \ubcf4\uc2ed\uc2dc\uc624.\n\n\n"
      ]
    },
    {
      "cell_type": "code",
      "execution_count": null,
      "metadata": {
        "collapsed": false
      },
      "outputs": [],
      "source": [
        "n_fft = 400.0\nframe_length = n_fft / sample_rate * 1000.0\nframe_shift = frame_length / 2.0\n\nparams = {\n    \"channel\": 0,\n    \"dither\": 0.0,\n    \"window_type\": \"hanning\",\n    \"frame_length\": frame_length,\n    \"frame_shift\": frame_shift,\n    \"remove_dc_offset\": False,\n    \"round_to_power_of_two\": False,\n    \"sample_frequency\": sample_rate,\n}\n\nspecgram = torchaudio.compliance.kaldi.spectrogram(waveform, **params)\n\nprint(\"Shape of spectrogram: {}\".format(specgram.size()))\n\nplt.figure()\nplt.imshow(specgram.t().numpy(), cmap='gray')"
      ]
    },
    {
      "cell_type": "markdown",
      "metadata": {},
      "source": [
        "\ub610\ud55c Kaldi\uc758 \uad6c\ud604\uacfc \ub3d9\uc77c\ud55c \ud544\ud130 \ubc45\ud06c \ud2b9\uc9d5 \uacc4\uc0b0\uc744 \uc9c0\uc6d0\ud569\ub2c8\ub2e4.\n\n\n"
      ]
    },
    {
      "cell_type": "code",
      "execution_count": null,
      "metadata": {
        "collapsed": false
      },
      "outputs": [],
      "source": [
        "fbank = torchaudio.compliance.kaldi.fbank(waveform, **params)\n\nprint(\"Shape of fbank: {}\".format(fbank.size()))\n\nplt.figure()\nplt.imshow(fbank.t().numpy(), cmap='gray')"
      ]
    },
    {
      "cell_type": "markdown",
      "metadata": {},
      "source": [
        "\uacb0\ub860\n----------\n\n\uc6d0\uc2dc \uc624\ub514\uc624 \uc2e0\ud638 \ub610\ub294 \ud30c\ud615\uc744 \uc774\uc6a9\ud574\uc11c torchaudio\ub85c \uc624\ub514\uc624 \ud30c\uc77c\uc5ec\ub294 \ubc29\ubc95\uacfc\n\uadf8 \ud30c\ud615\uc744 \uc804\ucc98\ub9ac\ud558\uace0 \ubcc0\ud615\ud558\ub294 \ubc29\ubc95\uc744 \uc124\uba85\ud588\uc2b5\ub2c8\ub2e4.\nPytorch\uc5d0 torchaudio \uac00 \ud3ec\ud568\ub418\uc5b4\uc788\uae30 \ub54c\ubb38\uc5d0, \n\uc774 \uae30\uc220\ub4e4\uc740 GPU\ub97c \ud65c\uc6a9\ud55c \uc0c1\ud0dc\ub85c \uc74c\uc131\uc778\uc2dd\uacfc \uac19\uc740 \ub354 \ubc1c\uc804\ub41c \n\uc624\ub514\uc624 \uc5b4\ud50c\ub9ac\ucf00\uc774\uc158\uc758 \ube14\ub77d\uc744 \uad6c\ucd95\ud558\ub294\ub370 \uc0ac\uc6a9\ub420 \uc218 \uc788\uc2b5\ub2c8\ub2e4.\n\n\n"
      ]
    }
  ],
  "metadata": {
    "kernelspec": {
      "display_name": "Python 3",
      "language": "python",
      "name": "python3"
    },
    "language_info": {
      "codemirror_mode": {
        "name": "ipython",
        "version": 3
      },
      "file_extension": ".py",
      "mimetype": "text/x-python",
      "name": "python",
      "nbconvert_exporter": "python",
      "pygments_lexer": "ipython3",
      "version": "3.7.0"
    }
  },
  "nbformat": 4,
  "nbformat_minor": 0
}